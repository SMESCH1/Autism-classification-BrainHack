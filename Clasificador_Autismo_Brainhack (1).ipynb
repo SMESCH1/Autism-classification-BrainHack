{
  "cells": [
    {
      "cell_type": "code",
      "execution_count": null,
      "metadata": {
        "id": "mpw0lERlRQjV"
      },
      "outputs": [],
      "source": [
        "import os\n",
        "import io\n",
        "import glob\n",
        "import json\n",
        "import numpy as np\n",
        "import pandas as pd\n",
        "import seaborn as sns\n",
        "import matplotlib.pyplot as plt\n",
        "from scipy.stats import pearsonr\n",
        "import glob\n",
        "import argparse\n"
      ]
    },
    {
      "cell_type": "code",
      "execution_count": null,
      "metadata": {
        "id": "eioF8E2iU-yM",
        "colab": {
          "base_uri": "https://localhost:8080/"
        },
        "outputId": "a686c415-7c22-47b7-fa1c-b1102772ae96"
      },
      "outputs": [
        {
          "output_type": "stream",
          "name": "stdout",
          "text": [
            "Mounted at /content/drive\n"
          ]
        }
      ],
      "source": [
        "from google.colab import drive\n",
        "drive.mount('/content/drive')   "
      ]
    },
    {
      "cell_type": "code",
      "execution_count": null,
      "metadata": {
        "colab": {
          "base_uri": "https://localhost:8080/"
        },
        "id": "xf5TaH55lTAx",
        "outputId": "8dced5f0-4154-4e2b-81b7-6ebeec0b1cd8"
      },
      "outputs": [
        {
          "name": "stdout",
          "output_type": "stream",
          "text": [
            "/content/drive/.shortcut-targets-by-id/1lco1rMbsSCWuDnBkEXF4SL0ppvvDGczt/ABIDE/time_series\n"
          ]
        }
      ],
      "source": [
        "%cd /content/drive/MyDrive/Favaloro/Tesis/ABIDE/time_series"
      ]
    },
    {
      "cell_type": "code",
      "execution_count": null,
      "metadata": {
        "id": "OwG9bS4rU-0m"
      },
      "outputs": [],
      "source": [
        "path_data = \"/content/drive/MyDrive/Favaloro/Tesis/ABIDE/time_series\"\n",
        "path_ABIDE = \"/content/drive/MyDrive/Favaloro/Tesis/ABIDE\"\n"
      ]
    },
    {
      "cell_type": "code",
      "execution_count": null,
      "metadata": {
        "id": "M_FQcsOlgl8o"
      },
      "outputs": [],
      "source": [
        "# coordenadas ROIs\n",
        "#coords = pd.read_csv(os.path.join(path_ABIDE, \"rois_coordinates.csv\"))\n",
        "\n",
        "# labels ROIs\n",
        "#labels = np.loadtxt(os.path.join(path_ABIDE, \"rois_labels.txt\"), dtype=\"str\")\n",
        "\n",
        "# metadata AUTISTA/CONTROL\n",
        "metadata = pd.read_csv(os.path.join(path_ABIDE, \"metadata.csv\"))\n"
      ]
    },
    {
      "cell_type": "code",
      "source": [
        "# Tabla de frecuencias\n",
        "frequencies =  metadata[\"condition\"].value_counts()\n",
        "\n",
        "table = pd.DataFrame({\n",
        "    \"condition\": frequencies.index,\n",
        "    \"Frecuencia\": frequencies.values\n",
        "})\n",
        "print(table)"
      ],
      "metadata": {
        "id": "5NcrhS2GBVm9"
      },
      "execution_count": null,
      "outputs": []
    },
    {
      "cell_type": "code",
      "execution_count": null,
      "metadata": {
        "id": "FfeEYNjsf6To"
      },
      "outputs": [],
      "source": [
        "vectores = []\n",
        "matrices = []\n",
        "condicion = []\n",
        "ids = []\n",
        "\n",
        "# itera por cada directorio (cada sujeto) dentro de la carpeta time_series\n",
        "for carpeta_suj in os.listdir(path_data):\n",
        "    if not os.path.isdir(os.path.join(path_data, carpeta_suj)):\n",
        "        continue\n",
        "\n",
        "    # subject_id esta en el nombre de la carpeta\n",
        "    subject_id = carpeta_suj\n",
        "    #print(subject_id)\n",
        "\n",
        "\n",
        "\n",
        "    # Verificar si el subject_id corresponde a la condición \"CONT\" o \"AUT\"\n",
        "    if subject_id in metadata[metadata['condition'].isin(['CONT', 'AUT'])]['subject_id'].values:\n",
        "\n",
        "      ids.append(subject_id)\n",
        "      #condicion.append(metadata[metadata['subject_id']==subject_id].condition)\n",
        "\n",
        "      condicion.append(metadata[metadata['subject_id']==subject_id]['condition'].values[0])\n",
        "\n",
        "      #print(metadata[metadata['subject_id']==subject_id].condition.values[0])\n",
        "\n",
        "\n",
        "\n",
        "\n",
        "      # leer el csv con la serie temporal de cada sujeto\n",
        "      sujeto_ts = pd.read_csv(os.path.join(path_data, carpeta_suj, \"tseries.csv\"), header=None)\n",
        "\n",
        "      #print(sujeto_ts.shape)\n",
        "      # matriz de correlacion de Pearson\n",
        "      corr_matriz = np.corrcoef(sujeto_ts)\n",
        "      #print(corr_matriz.shape)\n",
        "      matrices.append(corr_matriz)\n",
        "\n",
        "      # selecciono el triangulo inferior de la matriz de correlaciones de conectividad\n",
        "      #triangulo_inf = np.tril(corr_matriz, k=-1)\n",
        "      #triangulo_inf = np.tril_indices(corr_matriz, k=-1)\n",
        "\n",
        "\n",
        "      # Vectorizar el triángulo inferior\n",
        "      #vector_inf = np.ravel(triangulo_inf)\n",
        "      vector_inf = corr_matriz[np.triu_indices_from(corr_matriz, k=1)]    #triu selecciona el sup k ignora la diagoanl\n",
        "      #print(vector_inf.shape)\n",
        "      #print(vector_inf)\n",
        "\n",
        "    # Agregar el vector a la lista de vectores\n",
        "      \n",
        "      vectores.append(vector_inf)\n",
        "      #print(vectores)\n"
      ]
    },
    {
      "cell_type": "code",
      "source": [
        "# crear df de la lista de vectores\n",
        "df_vectores = pd.DataFrame(vectores)\n",
        "# agregar la condicion al df vectores\n",
        "df_vectores['condicion'] = condicion\n",
        "\n",
        "#df_vectores['subject_id'] = ids\n",
        "\n",
        "#df_vectores = pd.DataFrame({'subject_id': ids, 'condition': condicion, 'vector': vectores})\n",
        "\n",
        "# Guardar el DataFrame en un archivo CSV"
      ],
      "metadata": {
        "id": "bEVIMZZ2phqq"
      },
      "execution_count": null,
      "outputs": []
    },
    {
      "cell_type": "code",
      "source": [
        "df_vectores"
      ],
      "metadata": {
        "colab": {
          "base_uri": "https://localhost:8080/",
          "height": 487
        },
        "id": "CqlMnUgj-BzU",
        "outputId": "5bb19f0a-cfbe-4a03-8670-aa459bb146cf"
      },
      "execution_count": null,
      "outputs": [
        {
          "output_type": "execute_result",
          "data": {
            "text/plain": [
              "            0         1         2         3         4         5         6  \\\n",
              "0    0.884496  0.709854  0.759467  0.808396  0.748825  0.746855  0.797611   \n",
              "1    0.913155  0.508644  0.210797  0.375724  0.136328  0.550674  0.217562   \n",
              "2    0.693080  0.639012  0.427046  0.553249  0.370843  0.639087  0.615761   \n",
              "3    0.674283  0.356046  0.395826  0.250278  0.315492  0.327619  0.418142   \n",
              "4    0.631215  0.468764  0.447137  0.464821  0.383575  0.549706  0.380909   \n",
              "..        ...       ...       ...       ...       ...       ...       ...   \n",
              "968  0.888090  0.765874  0.792513  0.796749  0.828143  0.749775  0.779592   \n",
              "969  0.863935  0.567457  0.385698  0.421088  0.392381  0.485603  0.474980   \n",
              "970  0.739739  0.603254  0.720546  0.589603  0.650524  0.595682  0.587275   \n",
              "971  0.565503  0.291143  0.493934  0.175546  0.331135  0.258164  0.490494   \n",
              "972  0.794437  0.456195  0.612261  0.567565  0.430790  0.597022  0.561141   \n",
              "\n",
              "            7         8         9  ...      4362      4363      4364  \\\n",
              "0    0.754630  0.699556  0.558432  ...  0.894507  0.848783  0.875080   \n",
              "1    0.446146  0.257435  0.336017  ...  0.552078  0.645986  0.629501   \n",
              "2    0.474038  0.523910  0.360967  ...  0.697781  0.573982  0.727019   \n",
              "3    0.318003  0.344895  0.407478  ...  0.762027  0.589437  0.729525   \n",
              "4    0.574176  0.417614  0.567322  ...  0.634173  0.671634  0.658479   \n",
              "..        ...       ...       ...  ...       ...       ...       ...   \n",
              "968  0.735686  0.744654  0.599306  ...  0.654844  0.773923  0.797517   \n",
              "969  0.413237  0.405421  0.474576  ...  0.449595  0.649403  0.753157   \n",
              "970  0.539085  0.547962  0.529656  ...  0.778980  0.643013  0.668551   \n",
              "971  0.079805  0.200938  0.333647  ...  0.583292  0.622685  0.685849   \n",
              "972  0.544445  0.498148  0.359520  ...  0.568864  0.497137  0.618131   \n",
              "\n",
              "         4365      4366      4367      4368      4369      4370  condicion  \n",
              "0    0.853000  0.754495  0.673811  0.807199  0.812130  0.915447        AUT  \n",
              "1    0.814782  0.648253  0.585712  0.574145  0.465562  0.773946       CONT  \n",
              "2    0.648158  0.601135  0.471724  0.460433  0.525508  0.854126        AUT  \n",
              "3    0.827515  0.567599  0.546411  0.680090  0.719204  0.798524       CONT  \n",
              "4    0.599554  0.443173  0.456866  0.421308  0.572873  0.629786       CONT  \n",
              "..        ...       ...       ...       ...       ...       ...        ...  \n",
              "968  0.470793  0.468013  0.448449  0.602436  0.582362  0.860097        AUT  \n",
              "969  0.676551  0.541748  0.504960  0.538907  0.444945  0.843787       CONT  \n",
              "970  0.580668  0.419678  0.308983  0.424211  0.498261  0.808581        AUT  \n",
              "971  0.413688  0.462261  0.307173  0.357695  0.390904  0.658923        AUT  \n",
              "972  0.816311  0.728567  0.451598  0.646968  0.587257  0.717321       CONT  \n",
              "\n",
              "[973 rows x 4372 columns]"
            ],
            "text/html": [
              "\n",
              "  <div id=\"df-f89ac201-99c7-4b23-96a9-7c0cb209ccc1\">\n",
              "    <div class=\"colab-df-container\">\n",
              "      <div>\n",
              "<style scoped>\n",
              "    .dataframe tbody tr th:only-of-type {\n",
              "        vertical-align: middle;\n",
              "    }\n",
              "\n",
              "    .dataframe tbody tr th {\n",
              "        vertical-align: top;\n",
              "    }\n",
              "\n",
              "    .dataframe thead th {\n",
              "        text-align: right;\n",
              "    }\n",
              "</style>\n",
              "<table border=\"1\" class=\"dataframe\">\n",
              "  <thead>\n",
              "    <tr style=\"text-align: right;\">\n",
              "      <th></th>\n",
              "      <th>0</th>\n",
              "      <th>1</th>\n",
              "      <th>2</th>\n",
              "      <th>3</th>\n",
              "      <th>4</th>\n",
              "      <th>5</th>\n",
              "      <th>6</th>\n",
              "      <th>7</th>\n",
              "      <th>8</th>\n",
              "      <th>9</th>\n",
              "      <th>...</th>\n",
              "      <th>4362</th>\n",
              "      <th>4363</th>\n",
              "      <th>4364</th>\n",
              "      <th>4365</th>\n",
              "      <th>4366</th>\n",
              "      <th>4367</th>\n",
              "      <th>4368</th>\n",
              "      <th>4369</th>\n",
              "      <th>4370</th>\n",
              "      <th>condicion</th>\n",
              "    </tr>\n",
              "  </thead>\n",
              "  <tbody>\n",
              "    <tr>\n",
              "      <th>0</th>\n",
              "      <td>0.884496</td>\n",
              "      <td>0.709854</td>\n",
              "      <td>0.759467</td>\n",
              "      <td>0.808396</td>\n",
              "      <td>0.748825</td>\n",
              "      <td>0.746855</td>\n",
              "      <td>0.797611</td>\n",
              "      <td>0.754630</td>\n",
              "      <td>0.699556</td>\n",
              "      <td>0.558432</td>\n",
              "      <td>...</td>\n",
              "      <td>0.894507</td>\n",
              "      <td>0.848783</td>\n",
              "      <td>0.875080</td>\n",
              "      <td>0.853000</td>\n",
              "      <td>0.754495</td>\n",
              "      <td>0.673811</td>\n",
              "      <td>0.807199</td>\n",
              "      <td>0.812130</td>\n",
              "      <td>0.915447</td>\n",
              "      <td>AUT</td>\n",
              "    </tr>\n",
              "    <tr>\n",
              "      <th>1</th>\n",
              "      <td>0.913155</td>\n",
              "      <td>0.508644</td>\n",
              "      <td>0.210797</td>\n",
              "      <td>0.375724</td>\n",
              "      <td>0.136328</td>\n",
              "      <td>0.550674</td>\n",
              "      <td>0.217562</td>\n",
              "      <td>0.446146</td>\n",
              "      <td>0.257435</td>\n",
              "      <td>0.336017</td>\n",
              "      <td>...</td>\n",
              "      <td>0.552078</td>\n",
              "      <td>0.645986</td>\n",
              "      <td>0.629501</td>\n",
              "      <td>0.814782</td>\n",
              "      <td>0.648253</td>\n",
              "      <td>0.585712</td>\n",
              "      <td>0.574145</td>\n",
              "      <td>0.465562</td>\n",
              "      <td>0.773946</td>\n",
              "      <td>CONT</td>\n",
              "    </tr>\n",
              "    <tr>\n",
              "      <th>2</th>\n",
              "      <td>0.693080</td>\n",
              "      <td>0.639012</td>\n",
              "      <td>0.427046</td>\n",
              "      <td>0.553249</td>\n",
              "      <td>0.370843</td>\n",
              "      <td>0.639087</td>\n",
              "      <td>0.615761</td>\n",
              "      <td>0.474038</td>\n",
              "      <td>0.523910</td>\n",
              "      <td>0.360967</td>\n",
              "      <td>...</td>\n",
              "      <td>0.697781</td>\n",
              "      <td>0.573982</td>\n",
              "      <td>0.727019</td>\n",
              "      <td>0.648158</td>\n",
              "      <td>0.601135</td>\n",
              "      <td>0.471724</td>\n",
              "      <td>0.460433</td>\n",
              "      <td>0.525508</td>\n",
              "      <td>0.854126</td>\n",
              "      <td>AUT</td>\n",
              "    </tr>\n",
              "    <tr>\n",
              "      <th>3</th>\n",
              "      <td>0.674283</td>\n",
              "      <td>0.356046</td>\n",
              "      <td>0.395826</td>\n",
              "      <td>0.250278</td>\n",
              "      <td>0.315492</td>\n",
              "      <td>0.327619</td>\n",
              "      <td>0.418142</td>\n",
              "      <td>0.318003</td>\n",
              "      <td>0.344895</td>\n",
              "      <td>0.407478</td>\n",
              "      <td>...</td>\n",
              "      <td>0.762027</td>\n",
              "      <td>0.589437</td>\n",
              "      <td>0.729525</td>\n",
              "      <td>0.827515</td>\n",
              "      <td>0.567599</td>\n",
              "      <td>0.546411</td>\n",
              "      <td>0.680090</td>\n",
              "      <td>0.719204</td>\n",
              "      <td>0.798524</td>\n",
              "      <td>CONT</td>\n",
              "    </tr>\n",
              "    <tr>\n",
              "      <th>4</th>\n",
              "      <td>0.631215</td>\n",
              "      <td>0.468764</td>\n",
              "      <td>0.447137</td>\n",
              "      <td>0.464821</td>\n",
              "      <td>0.383575</td>\n",
              "      <td>0.549706</td>\n",
              "      <td>0.380909</td>\n",
              "      <td>0.574176</td>\n",
              "      <td>0.417614</td>\n",
              "      <td>0.567322</td>\n",
              "      <td>...</td>\n",
              "      <td>0.634173</td>\n",
              "      <td>0.671634</td>\n",
              "      <td>0.658479</td>\n",
              "      <td>0.599554</td>\n",
              "      <td>0.443173</td>\n",
              "      <td>0.456866</td>\n",
              "      <td>0.421308</td>\n",
              "      <td>0.572873</td>\n",
              "      <td>0.629786</td>\n",
              "      <td>CONT</td>\n",
              "    </tr>\n",
              "    <tr>\n",
              "      <th>...</th>\n",
              "      <td>...</td>\n",
              "      <td>...</td>\n",
              "      <td>...</td>\n",
              "      <td>...</td>\n",
              "      <td>...</td>\n",
              "      <td>...</td>\n",
              "      <td>...</td>\n",
              "      <td>...</td>\n",
              "      <td>...</td>\n",
              "      <td>...</td>\n",
              "      <td>...</td>\n",
              "      <td>...</td>\n",
              "      <td>...</td>\n",
              "      <td>...</td>\n",
              "      <td>...</td>\n",
              "      <td>...</td>\n",
              "      <td>...</td>\n",
              "      <td>...</td>\n",
              "      <td>...</td>\n",
              "      <td>...</td>\n",
              "      <td>...</td>\n",
              "    </tr>\n",
              "    <tr>\n",
              "      <th>968</th>\n",
              "      <td>0.888090</td>\n",
              "      <td>0.765874</td>\n",
              "      <td>0.792513</td>\n",
              "      <td>0.796749</td>\n",
              "      <td>0.828143</td>\n",
              "      <td>0.749775</td>\n",
              "      <td>0.779592</td>\n",
              "      <td>0.735686</td>\n",
              "      <td>0.744654</td>\n",
              "      <td>0.599306</td>\n",
              "      <td>...</td>\n",
              "      <td>0.654844</td>\n",
              "      <td>0.773923</td>\n",
              "      <td>0.797517</td>\n",
              "      <td>0.470793</td>\n",
              "      <td>0.468013</td>\n",
              "      <td>0.448449</td>\n",
              "      <td>0.602436</td>\n",
              "      <td>0.582362</td>\n",
              "      <td>0.860097</td>\n",
              "      <td>AUT</td>\n",
              "    </tr>\n",
              "    <tr>\n",
              "      <th>969</th>\n",
              "      <td>0.863935</td>\n",
              "      <td>0.567457</td>\n",
              "      <td>0.385698</td>\n",
              "      <td>0.421088</td>\n",
              "      <td>0.392381</td>\n",
              "      <td>0.485603</td>\n",
              "      <td>0.474980</td>\n",
              "      <td>0.413237</td>\n",
              "      <td>0.405421</td>\n",
              "      <td>0.474576</td>\n",
              "      <td>...</td>\n",
              "      <td>0.449595</td>\n",
              "      <td>0.649403</td>\n",
              "      <td>0.753157</td>\n",
              "      <td>0.676551</td>\n",
              "      <td>0.541748</td>\n",
              "      <td>0.504960</td>\n",
              "      <td>0.538907</td>\n",
              "      <td>0.444945</td>\n",
              "      <td>0.843787</td>\n",
              "      <td>CONT</td>\n",
              "    </tr>\n",
              "    <tr>\n",
              "      <th>970</th>\n",
              "      <td>0.739739</td>\n",
              "      <td>0.603254</td>\n",
              "      <td>0.720546</td>\n",
              "      <td>0.589603</td>\n",
              "      <td>0.650524</td>\n",
              "      <td>0.595682</td>\n",
              "      <td>0.587275</td>\n",
              "      <td>0.539085</td>\n",
              "      <td>0.547962</td>\n",
              "      <td>0.529656</td>\n",
              "      <td>...</td>\n",
              "      <td>0.778980</td>\n",
              "      <td>0.643013</td>\n",
              "      <td>0.668551</td>\n",
              "      <td>0.580668</td>\n",
              "      <td>0.419678</td>\n",
              "      <td>0.308983</td>\n",
              "      <td>0.424211</td>\n",
              "      <td>0.498261</td>\n",
              "      <td>0.808581</td>\n",
              "      <td>AUT</td>\n",
              "    </tr>\n",
              "    <tr>\n",
              "      <th>971</th>\n",
              "      <td>0.565503</td>\n",
              "      <td>0.291143</td>\n",
              "      <td>0.493934</td>\n",
              "      <td>0.175546</td>\n",
              "      <td>0.331135</td>\n",
              "      <td>0.258164</td>\n",
              "      <td>0.490494</td>\n",
              "      <td>0.079805</td>\n",
              "      <td>0.200938</td>\n",
              "      <td>0.333647</td>\n",
              "      <td>...</td>\n",
              "      <td>0.583292</td>\n",
              "      <td>0.622685</td>\n",
              "      <td>0.685849</td>\n",
              "      <td>0.413688</td>\n",
              "      <td>0.462261</td>\n",
              "      <td>0.307173</td>\n",
              "      <td>0.357695</td>\n",
              "      <td>0.390904</td>\n",
              "      <td>0.658923</td>\n",
              "      <td>AUT</td>\n",
              "    </tr>\n",
              "    <tr>\n",
              "      <th>972</th>\n",
              "      <td>0.794437</td>\n",
              "      <td>0.456195</td>\n",
              "      <td>0.612261</td>\n",
              "      <td>0.567565</td>\n",
              "      <td>0.430790</td>\n",
              "      <td>0.597022</td>\n",
              "      <td>0.561141</td>\n",
              "      <td>0.544445</td>\n",
              "      <td>0.498148</td>\n",
              "      <td>0.359520</td>\n",
              "      <td>...</td>\n",
              "      <td>0.568864</td>\n",
              "      <td>0.497137</td>\n",
              "      <td>0.618131</td>\n",
              "      <td>0.816311</td>\n",
              "      <td>0.728567</td>\n",
              "      <td>0.451598</td>\n",
              "      <td>0.646968</td>\n",
              "      <td>0.587257</td>\n",
              "      <td>0.717321</td>\n",
              "      <td>CONT</td>\n",
              "    </tr>\n",
              "  </tbody>\n",
              "</table>\n",
              "<p>973 rows × 4372 columns</p>\n",
              "</div>\n",
              "      <button class=\"colab-df-convert\" onclick=\"convertToInteractive('df-f89ac201-99c7-4b23-96a9-7c0cb209ccc1')\"\n",
              "              title=\"Convert this dataframe to an interactive table.\"\n",
              "              style=\"display:none;\">\n",
              "        \n",
              "  <svg xmlns=\"http://www.w3.org/2000/svg\" height=\"24px\"viewBox=\"0 0 24 24\"\n",
              "       width=\"24px\">\n",
              "    <path d=\"M0 0h24v24H0V0z\" fill=\"none\"/>\n",
              "    <path d=\"M18.56 5.44l.94 2.06.94-2.06 2.06-.94-2.06-.94-.94-2.06-.94 2.06-2.06.94zm-11 1L8.5 8.5l.94-2.06 2.06-.94-2.06-.94L8.5 2.5l-.94 2.06-2.06.94zm10 10l.94 2.06.94-2.06 2.06-.94-2.06-.94-.94-2.06-.94 2.06-2.06.94z\"/><path d=\"M17.41 7.96l-1.37-1.37c-.4-.4-.92-.59-1.43-.59-.52 0-1.04.2-1.43.59L10.3 9.45l-7.72 7.72c-.78.78-.78 2.05 0 2.83L4 21.41c.39.39.9.59 1.41.59.51 0 1.02-.2 1.41-.59l7.78-7.78 2.81-2.81c.8-.78.8-2.07 0-2.86zM5.41 20L4 18.59l7.72-7.72 1.47 1.35L5.41 20z\"/>\n",
              "  </svg>\n",
              "      </button>\n",
              "      \n",
              "  <style>\n",
              "    .colab-df-container {\n",
              "      display:flex;\n",
              "      flex-wrap:wrap;\n",
              "      gap: 12px;\n",
              "    }\n",
              "\n",
              "    .colab-df-convert {\n",
              "      background-color: #E8F0FE;\n",
              "      border: none;\n",
              "      border-radius: 50%;\n",
              "      cursor: pointer;\n",
              "      display: none;\n",
              "      fill: #1967D2;\n",
              "      height: 32px;\n",
              "      padding: 0 0 0 0;\n",
              "      width: 32px;\n",
              "    }\n",
              "\n",
              "    .colab-df-convert:hover {\n",
              "      background-color: #E2EBFA;\n",
              "      box-shadow: 0px 1px 2px rgba(60, 64, 67, 0.3), 0px 1px 3px 1px rgba(60, 64, 67, 0.15);\n",
              "      fill: #174EA6;\n",
              "    }\n",
              "\n",
              "    [theme=dark] .colab-df-convert {\n",
              "      background-color: #3B4455;\n",
              "      fill: #D2E3FC;\n",
              "    }\n",
              "\n",
              "    [theme=dark] .colab-df-convert:hover {\n",
              "      background-color: #434B5C;\n",
              "      box-shadow: 0px 1px 3px 1px rgba(0, 0, 0, 0.15);\n",
              "      filter: drop-shadow(0px 1px 2px rgba(0, 0, 0, 0.3));\n",
              "      fill: #FFFFFF;\n",
              "    }\n",
              "  </style>\n",
              "\n",
              "      <script>\n",
              "        const buttonEl =\n",
              "          document.querySelector('#df-f89ac201-99c7-4b23-96a9-7c0cb209ccc1 button.colab-df-convert');\n",
              "        buttonEl.style.display =\n",
              "          google.colab.kernel.accessAllowed ? 'block' : 'none';\n",
              "\n",
              "        async function convertToInteractive(key) {\n",
              "          const element = document.querySelector('#df-f89ac201-99c7-4b23-96a9-7c0cb209ccc1');\n",
              "          const dataTable =\n",
              "            await google.colab.kernel.invokeFunction('convertToInteractive',\n",
              "                                                     [key], {});\n",
              "          if (!dataTable) return;\n",
              "\n",
              "          const docLinkHtml = 'Like what you see? Visit the ' +\n",
              "            '<a target=\"_blank\" href=https://colab.research.google.com/notebooks/data_table.ipynb>data table notebook</a>'\n",
              "            + ' to learn more about interactive tables.';\n",
              "          element.innerHTML = '';\n",
              "          dataTable['output_type'] = 'display_data';\n",
              "          await google.colab.output.renderOutput(dataTable, element);\n",
              "          const docLink = document.createElement('div');\n",
              "          docLink.innerHTML = docLinkHtml;\n",
              "          element.appendChild(docLink);\n",
              "        }\n",
              "      </script>\n",
              "    </div>\n",
              "  </div>\n",
              "  "
            ]
          },
          "metadata": {},
          "execution_count": 7
        }
      ]
    },
    {
      "cell_type": "code",
      "execution_count": null,
      "metadata": {
        "id": "VTpaESVdf6QP"
      },
      "outputs": [],
      "source": [
        "df_vectores.to_csv('vectores.csv', index=False)\n"
      ]
    },
    {
      "cell_type": "markdown",
      "source": [
        "# Carga DF vectores"
      ],
      "metadata": {
        "id": "vcWzLvfVBxhV"
      }
    },
    {
      "cell_type": "code",
      "source": [
        "# Importar el csv desde disco local\n",
        "from google.colab import files\n",
        "uploaded = files.upload()"
      ],
      "metadata": {
        "colab": {
          "base_uri": "https://localhost:8080/",
          "height": 72
        },
        "id": "CRhUMy2YG28P",
        "outputId": "da689112-b138-49fb-bcf1-e08ccb6d2805"
      },
      "execution_count": null,
      "outputs": [
        {
          "output_type": "display_data",
          "data": {
            "text/plain": [
              "<IPython.core.display.HTML object>"
            ],
            "text/html": [
              "\n",
              "     <input type=\"file\" id=\"files-9f8a48d6-fbe8-4856-9dd6-89dc2341ddea\" name=\"files[]\" multiple disabled\n",
              "        style=\"border:none\" />\n",
              "     <output id=\"result-9f8a48d6-fbe8-4856-9dd6-89dc2341ddea\">\n",
              "      Upload widget is only available when the cell has been executed in the\n",
              "      current browser session. Please rerun this cell to enable.\n",
              "      </output>\n",
              "      <script>// Copyright 2017 Google LLC\n",
              "//\n",
              "// Licensed under the Apache License, Version 2.0 (the \"License\");\n",
              "// you may not use this file except in compliance with the License.\n",
              "// You may obtain a copy of the License at\n",
              "//\n",
              "//      http://www.apache.org/licenses/LICENSE-2.0\n",
              "//\n",
              "// Unless required by applicable law or agreed to in writing, software\n",
              "// distributed under the License is distributed on an \"AS IS\" BASIS,\n",
              "// WITHOUT WARRANTIES OR CONDITIONS OF ANY KIND, either express or implied.\n",
              "// See the License for the specific language governing permissions and\n",
              "// limitations under the License.\n",
              "\n",
              "/**\n",
              " * @fileoverview Helpers for google.colab Python module.\n",
              " */\n",
              "(function(scope) {\n",
              "function span(text, styleAttributes = {}) {\n",
              "  const element = document.createElement('span');\n",
              "  element.textContent = text;\n",
              "  for (const key of Object.keys(styleAttributes)) {\n",
              "    element.style[key] = styleAttributes[key];\n",
              "  }\n",
              "  return element;\n",
              "}\n",
              "\n",
              "// Max number of bytes which will be uploaded at a time.\n",
              "const MAX_PAYLOAD_SIZE = 100 * 1024;\n",
              "\n",
              "function _uploadFiles(inputId, outputId) {\n",
              "  const steps = uploadFilesStep(inputId, outputId);\n",
              "  const outputElement = document.getElementById(outputId);\n",
              "  // Cache steps on the outputElement to make it available for the next call\n",
              "  // to uploadFilesContinue from Python.\n",
              "  outputElement.steps = steps;\n",
              "\n",
              "  return _uploadFilesContinue(outputId);\n",
              "}\n",
              "\n",
              "// This is roughly an async generator (not supported in the browser yet),\n",
              "// where there are multiple asynchronous steps and the Python side is going\n",
              "// to poll for completion of each step.\n",
              "// This uses a Promise to block the python side on completion of each step,\n",
              "// then passes the result of the previous step as the input to the next step.\n",
              "function _uploadFilesContinue(outputId) {\n",
              "  const outputElement = document.getElementById(outputId);\n",
              "  const steps = outputElement.steps;\n",
              "\n",
              "  const next = steps.next(outputElement.lastPromiseValue);\n",
              "  return Promise.resolve(next.value.promise).then((value) => {\n",
              "    // Cache the last promise value to make it available to the next\n",
              "    // step of the generator.\n",
              "    outputElement.lastPromiseValue = value;\n",
              "    return next.value.response;\n",
              "  });\n",
              "}\n",
              "\n",
              "/**\n",
              " * Generator function which is called between each async step of the upload\n",
              " * process.\n",
              " * @param {string} inputId Element ID of the input file picker element.\n",
              " * @param {string} outputId Element ID of the output display.\n",
              " * @return {!Iterable<!Object>} Iterable of next steps.\n",
              " */\n",
              "function* uploadFilesStep(inputId, outputId) {\n",
              "  const inputElement = document.getElementById(inputId);\n",
              "  inputElement.disabled = false;\n",
              "\n",
              "  const outputElement = document.getElementById(outputId);\n",
              "  outputElement.innerHTML = '';\n",
              "\n",
              "  const pickedPromise = new Promise((resolve) => {\n",
              "    inputElement.addEventListener('change', (e) => {\n",
              "      resolve(e.target.files);\n",
              "    });\n",
              "  });\n",
              "\n",
              "  const cancel = document.createElement('button');\n",
              "  inputElement.parentElement.appendChild(cancel);\n",
              "  cancel.textContent = 'Cancel upload';\n",
              "  const cancelPromise = new Promise((resolve) => {\n",
              "    cancel.onclick = () => {\n",
              "      resolve(null);\n",
              "    };\n",
              "  });\n",
              "\n",
              "  // Wait for the user to pick the files.\n",
              "  const files = yield {\n",
              "    promise: Promise.race([pickedPromise, cancelPromise]),\n",
              "    response: {\n",
              "      action: 'starting',\n",
              "    }\n",
              "  };\n",
              "\n",
              "  cancel.remove();\n",
              "\n",
              "  // Disable the input element since further picks are not allowed.\n",
              "  inputElement.disabled = true;\n",
              "\n",
              "  if (!files) {\n",
              "    return {\n",
              "      response: {\n",
              "        action: 'complete',\n",
              "      }\n",
              "    };\n",
              "  }\n",
              "\n",
              "  for (const file of files) {\n",
              "    const li = document.createElement('li');\n",
              "    li.append(span(file.name, {fontWeight: 'bold'}));\n",
              "    li.append(span(\n",
              "        `(${file.type || 'n/a'}) - ${file.size} bytes, ` +\n",
              "        `last modified: ${\n",
              "            file.lastModifiedDate ? file.lastModifiedDate.toLocaleDateString() :\n",
              "                                    'n/a'} - `));\n",
              "    const percent = span('0% done');\n",
              "    li.appendChild(percent);\n",
              "\n",
              "    outputElement.appendChild(li);\n",
              "\n",
              "    const fileDataPromise = new Promise((resolve) => {\n",
              "      const reader = new FileReader();\n",
              "      reader.onload = (e) => {\n",
              "        resolve(e.target.result);\n",
              "      };\n",
              "      reader.readAsArrayBuffer(file);\n",
              "    });\n",
              "    // Wait for the data to be ready.\n",
              "    let fileData = yield {\n",
              "      promise: fileDataPromise,\n",
              "      response: {\n",
              "        action: 'continue',\n",
              "      }\n",
              "    };\n",
              "\n",
              "    // Use a chunked sending to avoid message size limits. See b/62115660.\n",
              "    let position = 0;\n",
              "    do {\n",
              "      const length = Math.min(fileData.byteLength - position, MAX_PAYLOAD_SIZE);\n",
              "      const chunk = new Uint8Array(fileData, position, length);\n",
              "      position += length;\n",
              "\n",
              "      const base64 = btoa(String.fromCharCode.apply(null, chunk));\n",
              "      yield {\n",
              "        response: {\n",
              "          action: 'append',\n",
              "          file: file.name,\n",
              "          data: base64,\n",
              "        },\n",
              "      };\n",
              "\n",
              "      let percentDone = fileData.byteLength === 0 ?\n",
              "          100 :\n",
              "          Math.round((position / fileData.byteLength) * 100);\n",
              "      percent.textContent = `${percentDone}% done`;\n",
              "\n",
              "    } while (position < fileData.byteLength);\n",
              "  }\n",
              "\n",
              "  // All done.\n",
              "  yield {\n",
              "    response: {\n",
              "      action: 'complete',\n",
              "    }\n",
              "  };\n",
              "}\n",
              "\n",
              "scope.google = scope.google || {};\n",
              "scope.google.colab = scope.google.colab || {};\n",
              "scope.google.colab._files = {\n",
              "  _uploadFiles,\n",
              "  _uploadFilesContinue,\n",
              "};\n",
              "})(self);\n",
              "</script> "
            ]
          },
          "metadata": {}
        },
        {
          "output_type": "stream",
          "name": "stdout",
          "text": [
            "Saving vectores.csv to vectores (1).csv\n"
          ]
        }
      ]
    },
    {
      "cell_type": "code",
      "source": [
        "import io\n",
        "df = pd.read_csv(io.BytesIO(uploaded['vectores.csv']))\n",
        "# conertir el ds en un pandas df\n",
        "print(df)"
      ],
      "metadata": {
        "colab": {
          "base_uri": "https://localhost:8080/"
        },
        "id": "eCBxcr0RBvWJ",
        "outputId": "367b287f-1da1-4f3a-d97b-6d9a67b52b13"
      },
      "execution_count": null,
      "outputs": [
        {
          "output_type": "stream",
          "name": "stdout",
          "text": [
            "            0         1         2         3         4         5         6  \\\n",
            "0    0.884496  0.709854  0.759467  0.808396  0.748825  0.746855  0.797611   \n",
            "1    0.913155  0.508644  0.210797  0.375724  0.136328  0.550674  0.217562   \n",
            "2    0.693080  0.639012  0.427046  0.553249  0.370843  0.639087  0.615761   \n",
            "3    0.674283  0.356046  0.395826  0.250278  0.315492  0.327619  0.418142   \n",
            "4    0.631215  0.468764  0.447137  0.464821  0.383575  0.549706  0.380909   \n",
            "..        ...       ...       ...       ...       ...       ...       ...   \n",
            "968  0.888090  0.765874  0.792513  0.796749  0.828143  0.749775  0.779592   \n",
            "969  0.863935  0.567457  0.385698  0.421088  0.392381  0.485603  0.474980   \n",
            "970  0.739739  0.603254  0.720546  0.589603  0.650524  0.595682  0.587275   \n",
            "971  0.565503  0.291143  0.493934  0.175546  0.331135  0.258164  0.490494   \n",
            "972  0.794437  0.456195  0.612261  0.567565  0.430790  0.597022  0.561141   \n",
            "\n",
            "            7         8         9  ...      4362      4363      4364  \\\n",
            "0    0.754630  0.699556  0.558432  ...  0.894507  0.848783  0.875080   \n",
            "1    0.446146  0.257435  0.336017  ...  0.552078  0.645986  0.629501   \n",
            "2    0.474038  0.523910  0.360967  ...  0.697781  0.573982  0.727019   \n",
            "3    0.318003  0.344895  0.407478  ...  0.762027  0.589437  0.729525   \n",
            "4    0.574176  0.417614  0.567322  ...  0.634173  0.671634  0.658479   \n",
            "..        ...       ...       ...  ...       ...       ...       ...   \n",
            "968  0.735686  0.744654  0.599306  ...  0.654844  0.773923  0.797517   \n",
            "969  0.413237  0.405421  0.474576  ...  0.449595  0.649403  0.753157   \n",
            "970  0.539085  0.547962  0.529656  ...  0.778980  0.643013  0.668551   \n",
            "971  0.079805  0.200938  0.333647  ...  0.583292  0.622685  0.685849   \n",
            "972  0.544445  0.498148  0.359520  ...  0.568864  0.497137  0.618131   \n",
            "\n",
            "         4365      4366      4367      4368      4369      4370  condicion  \n",
            "0    0.853000  0.754495  0.673811  0.807199  0.812130  0.915447        AUT  \n",
            "1    0.814782  0.648253  0.585712  0.574145  0.465562  0.773946       CONT  \n",
            "2    0.648158  0.601135  0.471724  0.460433  0.525508  0.854126        AUT  \n",
            "3    0.827515  0.567599  0.546411  0.680090  0.719204  0.798524       CONT  \n",
            "4    0.599554  0.443173  0.456866  0.421308  0.572873  0.629786       CONT  \n",
            "..        ...       ...       ...       ...       ...       ...        ...  \n",
            "968  0.470793  0.468013  0.448449  0.602436  0.582362  0.860097        AUT  \n",
            "969  0.676551  0.541748  0.504960  0.538907  0.444945  0.843787       CONT  \n",
            "970  0.580668  0.419678  0.308983  0.424211  0.498261  0.808581        AUT  \n",
            "971  0.413688  0.462261  0.307173  0.357695  0.390904  0.658923        AUT  \n",
            "972  0.816311  0.728567  0.451598  0.646968  0.587257  0.717321       CONT  \n",
            "\n",
            "[973 rows x 4372 columns]\n"
          ]
        }
      ]
    },
    {
      "cell_type": "markdown",
      "source": [
        "Como puede observarse, vemos que hay 4371 columnas que corresponden a los vectores generados, que contienen  todas las regiones (parcelas). \n",
        "Cada fila corresponde a un sujeto, que cuenta con su condicion correspondiente en la columna \"condicion\""
      ],
      "metadata": {
        "id": "0uNAFSDlLDap"
      }
    },
    {
      "cell_type": "code",
      "source": [],
      "metadata": {
        "id": "cmQhd12hop1g"
      },
      "execution_count": null,
      "outputs": []
    },
    {
      "cell_type": "code",
      "source": [],
      "metadata": {
        "id": "18v9Do9Bopws"
      },
      "execution_count": null,
      "outputs": []
    },
    {
      "cell_type": "code",
      "execution_count": null,
      "metadata": {
        "id": "k_5cLmM2f6LR",
        "colab": {
          "base_uri": "https://localhost:8080/"
        },
        "outputId": "80286c47-d0ae-4a93-95ec-6835a1db3d70"
      },
      "outputs": [
        {
          "output_type": "stream",
          "name": "stdout",
          "text": [
            "Accuracy: 0.7025641025641025\n"
          ]
        }
      ],
      "source": [
        "### Random forest\n",
        "\n",
        "from sklearn.ensemble import RandomForestClassifier\n",
        "from sklearn.model_selection import train_test_split\n",
        "from sklearn.metrics import accuracy_score\n",
        "\n",
        "features = df.drop(['condicion'], axis=1)\n",
        "\n",
        "labels = df['condicion'].values  \n",
        "\n",
        "# Dividir los datos en conjuntos de entrenamiento y prueba\n",
        "X_train, X_test, y_train, y_test = train_test_split(features, labels, test_size=0.2, random_state=42)\n",
        "\n",
        "# Crear una instancia del clasificador Random Forest\n",
        "rf_classifier = RandomForestClassifier()\n",
        "\n",
        "# Entrenar el modelo utilizando los datos de entrenamiento\n",
        "rf_classifier.fit(X_train, y_train)\n",
        "\n",
        "# Predecir las etiquetas para los datos de prueba\n",
        "y_pred = rf_classifier.predict(X_test)\n",
        "\n",
        "# Calcular la precisión de la clasificación\n",
        "accuracy = accuracy_score(y_test, y_pred)\n",
        "print(\"Accuracy:\", accuracy)"
      ]
    },
    {
      "cell_type": "code",
      "source": [
        "# optimizacion de hiperparametros"
      ],
      "metadata": {
        "id": "55PlJcJRCHqU"
      },
      "execution_count": null,
      "outputs": []
    },
    {
      "cell_type": "code",
      "execution_count": null,
      "metadata": {
        "id": "fwA7zz3wf6Iu",
        "colab": {
          "base_uri": "https://localhost:8080/"
        },
        "outputId": "9949fc42-df2d-4600-da2d-bf09094cf64f"
      },
      "outputs": [
        {
          "output_type": "stream",
          "name": "stdout",
          "text": [
            "[[ 33  47]\n",
            " [ 11 104]]\n"
          ]
        }
      ],
      "source": [
        "from sklearn.metrics import confusion_matrix\n",
        "\n",
        "confusion_mat = confusion_matrix(y_test, y_pred)\n",
        "print(confusion_mat)\n"
      ]
    },
    {
      "cell_type": "code",
      "execution_count": null,
      "metadata": {
        "id": "SlwQDJVmf6GG",
        "colab": {
          "base_uri": "https://localhost:8080/"
        },
        "outputId": "63cd5624-e6c6-4902-ece3-e5bb7ab4a084"
      },
      "outputs": [
        {
          "output_type": "stream",
          "name": "stdout",
          "text": [
            "Precisión por clase: [0.75       0.68874172]\n",
            "Recall por clase: [0.4125     0.90434783]\n",
            "F1-score por clase: [0.53225806 0.78195489]\n"
          ]
        }
      ],
      "source": [
        "from sklearn.metrics import precision_score, recall_score, f1_score\n",
        "\n",
        "precision = precision_score(y_test, y_pred, average=None)\n",
        "recall = recall_score(y_test, y_pred, average=None)\n",
        "f1 = f1_score(y_test, y_pred, average=None)\n",
        "\n",
        "print(\"Precisión por condición:\", precision)\n",
        "print(\"Recall por clase:\", recall)\n",
        "print(\"F1-score por clase:\", f1)\n"
      ]
    },
    {
      "cell_type": "code",
      "execution_count": null,
      "metadata": {
        "id": "JeJxyYvmf6DS"
      },
      "outputs": [],
      "source": [
        "# en todos los casos seria primero AUT y despues CONT xq es directo por orden alfabetico o como podria saberlo?\n",
        "# poner interpretaion de los datos anteriores"
      ]
    },
    {
      "cell_type": "code",
      "execution_count": null,
      "metadata": {
        "id": "s4Pxpz_xf6BH"
      },
      "outputs": [],
      "source": []
    },
    {
      "cell_type": "code",
      "execution_count": null,
      "metadata": {
        "id": "_0i5GgW3f5-z"
      },
      "outputs": [],
      "source": [
        "# lista matrices de conectividad a  numpy array\n",
        "matrices = np.array(matrices)"
      ]
    },
    {
      "cell_type": "code",
      "execution_count": null,
      "metadata": {
        "id": "5-e97mjQf58M",
        "colab": {
          "base_uri": "https://localhost:8080/",
          "height": 658
        },
        "outputId": "7e7f4fd8-c3de-4066-da97-bbcad05ec306"
      },
      "outputs": [
        {
          "output_type": "stream",
          "name": "stdout",
          "text": [
            "Epoch 1/10\n"
          ]
        },
        {
          "output_type": "error",
          "ename": "ValueError",
          "evalue": "ignored",
          "traceback": [
            "\u001b[0;31m---------------------------------------------------------------------------\u001b[0m",
            "\u001b[0;31mValueError\u001b[0m                                Traceback (most recent call last)",
            "\u001b[0;32m<ipython-input-37-e3104f7b6a94>\u001b[0m in \u001b[0;36m<cell line: 17>\u001b[0;34m()\u001b[0m\n\u001b[1;32m     15\u001b[0m \u001b[0;34m\u001b[0m\u001b[0m\n\u001b[1;32m     16\u001b[0m \u001b[0;31m# Entrenar el modelo\u001b[0m\u001b[0;34m\u001b[0m\u001b[0;34m\u001b[0m\u001b[0m\n\u001b[0;32m---> 17\u001b[0;31m \u001b[0mmodel\u001b[0m\u001b[0;34m.\u001b[0m\u001b[0mfit\u001b[0m\u001b[0;34m(\u001b[0m\u001b[0mX_train\u001b[0m\u001b[0;34m,\u001b[0m \u001b[0my_train\u001b[0m\u001b[0;34m,\u001b[0m \u001b[0mepochs\u001b[0m\u001b[0;34m=\u001b[0m\u001b[0;36m10\u001b[0m\u001b[0;34m)\u001b[0m    \u001b[0;31m# deberia agregar la validacion?????\u001b[0m\u001b[0;34m\u001b[0m\u001b[0;34m\u001b[0m\u001b[0m\n\u001b[0m\u001b[1;32m     18\u001b[0m \u001b[0;34m\u001b[0m\u001b[0m\n\u001b[1;32m     19\u001b[0m \u001b[0;31m# Evaluar el modelo en el conjunto de prueba\u001b[0m\u001b[0;34m\u001b[0m\u001b[0;34m\u001b[0m\u001b[0m\n",
            "\u001b[0;32m/usr/local/lib/python3.10/dist-packages/keras/utils/traceback_utils.py\u001b[0m in \u001b[0;36merror_handler\u001b[0;34m(*args, **kwargs)\u001b[0m\n\u001b[1;32m     68\u001b[0m             \u001b[0;31m# To get the full stack trace, call:\u001b[0m\u001b[0;34m\u001b[0m\u001b[0;34m\u001b[0m\u001b[0m\n\u001b[1;32m     69\u001b[0m             \u001b[0;31m# `tf.debugging.disable_traceback_filtering()`\u001b[0m\u001b[0;34m\u001b[0m\u001b[0;34m\u001b[0m\u001b[0m\n\u001b[0;32m---> 70\u001b[0;31m             \u001b[0;32mraise\u001b[0m \u001b[0me\u001b[0m\u001b[0;34m.\u001b[0m\u001b[0mwith_traceback\u001b[0m\u001b[0;34m(\u001b[0m\u001b[0mfiltered_tb\u001b[0m\u001b[0;34m)\u001b[0m \u001b[0;32mfrom\u001b[0m \u001b[0;32mNone\u001b[0m\u001b[0;34m\u001b[0m\u001b[0;34m\u001b[0m\u001b[0m\n\u001b[0m\u001b[1;32m     71\u001b[0m         \u001b[0;32mfinally\u001b[0m\u001b[0;34m:\u001b[0m\u001b[0;34m\u001b[0m\u001b[0;34m\u001b[0m\u001b[0m\n\u001b[1;32m     72\u001b[0m             \u001b[0;32mdel\u001b[0m \u001b[0mfiltered_tb\u001b[0m\u001b[0;34m\u001b[0m\u001b[0;34m\u001b[0m\u001b[0m\n",
            "\u001b[0;32m/usr/local/lib/python3.10/dist-packages/keras/engine/training.py\u001b[0m in \u001b[0;36mtf__train_function\u001b[0;34m(iterator)\u001b[0m\n\u001b[1;32m     13\u001b[0m                 \u001b[0;32mtry\u001b[0m\u001b[0;34m:\u001b[0m\u001b[0;34m\u001b[0m\u001b[0;34m\u001b[0m\u001b[0m\n\u001b[1;32m     14\u001b[0m                     \u001b[0mdo_return\u001b[0m \u001b[0;34m=\u001b[0m \u001b[0;32mTrue\u001b[0m\u001b[0;34m\u001b[0m\u001b[0;34m\u001b[0m\u001b[0m\n\u001b[0;32m---> 15\u001b[0;31m                     \u001b[0mretval_\u001b[0m \u001b[0;34m=\u001b[0m \u001b[0mag__\u001b[0m\u001b[0;34m.\u001b[0m\u001b[0mconverted_call\u001b[0m\u001b[0;34m(\u001b[0m\u001b[0mag__\u001b[0m\u001b[0;34m.\u001b[0m\u001b[0mld\u001b[0m\u001b[0;34m(\u001b[0m\u001b[0mstep_function\u001b[0m\u001b[0;34m)\u001b[0m\u001b[0;34m,\u001b[0m \u001b[0;34m(\u001b[0m\u001b[0mag__\u001b[0m\u001b[0;34m.\u001b[0m\u001b[0mld\u001b[0m\u001b[0;34m(\u001b[0m\u001b[0mself\u001b[0m\u001b[0;34m)\u001b[0m\u001b[0;34m,\u001b[0m \u001b[0mag__\u001b[0m\u001b[0;34m.\u001b[0m\u001b[0mld\u001b[0m\u001b[0;34m(\u001b[0m\u001b[0miterator\u001b[0m\u001b[0;34m)\u001b[0m\u001b[0;34m)\u001b[0m\u001b[0;34m,\u001b[0m \u001b[0;32mNone\u001b[0m\u001b[0;34m,\u001b[0m \u001b[0mfscope\u001b[0m\u001b[0;34m)\u001b[0m\u001b[0;34m\u001b[0m\u001b[0;34m\u001b[0m\u001b[0m\n\u001b[0m\u001b[1;32m     16\u001b[0m                 \u001b[0;32mexcept\u001b[0m\u001b[0;34m:\u001b[0m\u001b[0;34m\u001b[0m\u001b[0;34m\u001b[0m\u001b[0m\n\u001b[1;32m     17\u001b[0m                     \u001b[0mdo_return\u001b[0m \u001b[0;34m=\u001b[0m \u001b[0;32mFalse\u001b[0m\u001b[0;34m\u001b[0m\u001b[0;34m\u001b[0m\u001b[0m\n",
            "\u001b[0;31mValueError\u001b[0m: in user code:\n\n    File \"/usr/local/lib/python3.10/dist-packages/keras/engine/training.py\", line 1284, in train_function  *\n        return step_function(self, iterator)\n    File \"/usr/local/lib/python3.10/dist-packages/keras/engine/training.py\", line 1268, in step_function  **\n        outputs = model.distribute_strategy.run(run_step, args=(data,))\n    File \"/usr/local/lib/python3.10/dist-packages/keras/engine/training.py\", line 1249, in run_step  **\n        outputs = model.train_step(data)\n    File \"/usr/local/lib/python3.10/dist-packages/keras/engine/training.py\", line 1050, in train_step\n        y_pred = self(x, training=True)\n    File \"/usr/local/lib/python3.10/dist-packages/keras/utils/traceback_utils.py\", line 70, in error_handler\n        raise e.with_traceback(filtered_tb) from None\n    File \"/usr/local/lib/python3.10/dist-packages/keras/engine/input_spec.py\", line 298, in assert_input_compatibility\n        raise ValueError(\n\n    ValueError: Input 0 of layer \"sequential\" is incompatible with the layer: expected shape=(None, 94, 94, 1), found shape=(None, 4371)\n"
          ]
        }
      ],
      "source": [
        "import tensorflow as tf\n",
        "from tensorflow import keras\n",
        "\n",
        "# Definir la arquitectura de la red convolucional\n",
        "model = keras.Sequential([\n",
        "    keras.layers.Conv2D(filters=32, kernel_size=(3, 3), activation='relu', input_shape=(N, N, 1)),  # COMO ESTABLECER ACA E SHAPE???\n",
        "    keras.layers.MaxPooling2D(pool_size=(2, 2)),\n",
        "    keras.layers.Flatten(),\n",
        "    keras.layers.Dense(units=64, activation='relu'),\n",
        "    keras.layers.Dense(units=2, activation='softmax')\n",
        "])\n",
        "\n",
        "# Compilar el modelo\n",
        "model.compile(optimizer='adam', loss='sparse_categorical_crossentropy', metrics=['accuracy'])\n",
        "\n",
        "# Entrenar el modelo\n",
        "model.fit(X_train, y_train, epochs=10)    # deberia agregar la validacion?????\n",
        "\n",
        "# Evaluar el modelo en el conjunto de prueba\n",
        "loss, accuracy = model.evaluate(X_test, y_test)\n",
        "print('Test Loss:', loss)\n",
        "print('Test Accuracy:', accuracy)\n"
      ]
    },
    {
      "cell_type": "code",
      "execution_count": null,
      "metadata": {
        "id": "IQyunrfDf55x"
      },
      "outputs": [],
      "source": []
    },
    {
      "cell_type": "code",
      "execution_count": null,
      "metadata": {
        "id": "htdd3Cb9f53P"
      },
      "outputs": [],
      "source": []
    },
    {
      "cell_type": "code",
      "execution_count": null,
      "metadata": {
        "id": "qlekRfEkf501"
      },
      "outputs": [],
      "source": []
    },
    {
      "cell_type": "code",
      "execution_count": null,
      "metadata": {
        "id": "RPaoaQ-zf5yf"
      },
      "outputs": [],
      "source": []
    },
    {
      "cell_type": "code",
      "execution_count": null,
      "metadata": {
        "id": "S6s9DDO_gP4l"
      },
      "outputs": [],
      "source": []
    }
  ],
  "metadata": {
    "colab": {
      "provenance": []
    },
    "kernelspec": {
      "display_name": "Python 3",
      "name": "python3"
    },
    "language_info": {
      "name": "python"
    }
  },
  "nbformat": 4,
  "nbformat_minor": 0
}